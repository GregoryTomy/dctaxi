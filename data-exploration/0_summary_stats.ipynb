{
 "cells": [
  {
   "cell_type": "code",
   "execution_count": 25,
   "metadata": {},
   "outputs": [],
   "source": [
    "import os\n",
    "import s3fs\n",
    "import pandas as pd\n",
    "import numpy as np\n",
    "import matplotlib.pyplot as plt\n",
    "from pathlib import Path\n",
    "\n",
    "from math import log, floor"
   ]
  },
  {
   "cell_type": "code",
   "execution_count": 13,
   "metadata": {},
   "outputs": [],
   "source": [
    "BUCKET_ID = Path('../bucket_id.txt').read_text().strip()\n",
    "AWS_DEFAULT_REGION = 'us-west-2'"
   ]
  },
  {
   "cell_type": "code",
   "execution_count": 14,
   "metadata": {},
   "outputs": [
    {
     "name": "stdout",
     "output_type": "stream",
     "text": [
      "<class 'pandas.core.frame.DataFrame'>\n",
      "RangeIndex: 5 entries, 0 to 4\n",
      "Data columns (total 10 columns):\n",
      " #   Column                              Non-Null Count  Dtype  \n",
      "---  ------                              --------------  -----  \n",
      " 0   summary                             5 non-null      object \n",
      " 1   fareamount_double                   5 non-null      float64\n",
      " 2   origin_block_latitude_double        5 non-null      float64\n",
      " 3   origin_block_longitude_double       5 non-null      float64\n",
      " 4   destination_block_latitude_double   5 non-null      float64\n",
      " 5   destination_block_longitude_double  5 non-null      float64\n",
      " 6   year_integer                        5 non-null      float64\n",
      " 7   month_integer                       5 non-null      float64\n",
      " 8   dow_integer                         5 non-null      float64\n",
      " 9   hour_integer                        5 non-null      float64\n",
      "dtypes: float64(9), object(1)\n",
      "memory usage: 532.0+ bytes\n",
      "None\n"
     ]
    }
   ],
   "source": [
    "df = pd.read_csv(\n",
    "    f\"s3://dc-taxi-{BUCKET_ID}-{AWS_DEFAULT_REGION}/parquet/vacuum/.meta/stats/*\"\n",
    ")\n",
    "print(df.info())"
   ]
  },
  {
   "cell_type": "code",
   "execution_count": 15,
   "metadata": {},
   "outputs": [
    {
     "data": {
      "text/html": [
       "<div>\n",
       "<style scoped>\n",
       "    .dataframe tbody tr th:only-of-type {\n",
       "        vertical-align: middle;\n",
       "    }\n",
       "\n",
       "    .dataframe tbody tr th {\n",
       "        vertical-align: top;\n",
       "    }\n",
       "\n",
       "    .dataframe thead th {\n",
       "        text-align: right;\n",
       "    }\n",
       "</style>\n",
       "<table border=\"1\" class=\"dataframe\">\n",
       "  <thead>\n",
       "    <tr style=\"text-align: right;\">\n",
       "      <th></th>\n",
       "      <th>fareamount_double</th>\n",
       "      <th>origin_block_latitude_double</th>\n",
       "      <th>origin_block_longitude_double</th>\n",
       "      <th>destination_block_latitude_double</th>\n",
       "      <th>destination_block_longitude_double</th>\n",
       "      <th>year_integer</th>\n",
       "      <th>month_integer</th>\n",
       "      <th>dow_integer</th>\n",
       "      <th>hour_integer</th>\n",
       "    </tr>\n",
       "    <tr>\n",
       "      <th>summary</th>\n",
       "      <th></th>\n",
       "      <th></th>\n",
       "      <th></th>\n",
       "      <th></th>\n",
       "      <th></th>\n",
       "      <th></th>\n",
       "      <th></th>\n",
       "      <th></th>\n",
       "      <th></th>\n",
       "    </tr>\n",
       "  </thead>\n",
       "  <tbody>\n",
       "    <tr>\n",
       "      <th>count</th>\n",
       "      <td>1.426220e+07</td>\n",
       "      <td>1.426220e+07</td>\n",
       "      <td>1.426220e+07</td>\n",
       "      <td>1.426220e+07</td>\n",
       "      <td>1.426220e+07</td>\n",
       "      <td>1.426220e+07</td>\n",
       "      <td>1.426220e+07</td>\n",
       "      <td>1.426220e+07</td>\n",
       "      <td>1.426220e+07</td>\n",
       "    </tr>\n",
       "    <tr>\n",
       "      <th>mean</th>\n",
       "      <td>9.741264e+00</td>\n",
       "      <td>3.890459e+01</td>\n",
       "      <td>-7.703034e+01</td>\n",
       "      <td>3.890634e+01</td>\n",
       "      <td>-7.703004e+01</td>\n",
       "      <td>2.016624e+03</td>\n",
       "      <td>6.569351e+00</td>\n",
       "      <td>3.986920e+00</td>\n",
       "      <td>1.399724e+01</td>\n",
       "    </tr>\n",
       "    <tr>\n",
       "      <th>stddev</th>\n",
       "      <td>4.539085e+00</td>\n",
       "      <td>1.497835e-02</td>\n",
       "      <td>1.922855e-02</td>\n",
       "      <td>1.726343e-02</td>\n",
       "      <td>2.237168e-02</td>\n",
       "      <td>1.280343e+00</td>\n",
       "      <td>3.454275e+00</td>\n",
       "      <td>2.005323e+00</td>\n",
       "      <td>6.145545e+00</td>\n",
       "    </tr>\n",
       "    <tr>\n",
       "      <th>min</th>\n",
       "      <td>3.250000e+00</td>\n",
       "      <td>3.881206e+01</td>\n",
       "      <td>-7.711363e+01</td>\n",
       "      <td>3.881138e+01</td>\n",
       "      <td>-7.711363e+01</td>\n",
       "      <td>2.015000e+03</td>\n",
       "      <td>1.000000e+00</td>\n",
       "      <td>1.000000e+00</td>\n",
       "      <td>0.000000e+00</td>\n",
       "    </tr>\n",
       "    <tr>\n",
       "      <th>max</th>\n",
       "      <td>1.795600e+02</td>\n",
       "      <td>3.899422e+01</td>\n",
       "      <td>-7.691001e+01</td>\n",
       "      <td>3.899491e+01</td>\n",
       "      <td>-7.691001e+01</td>\n",
       "      <td>2.019000e+03</td>\n",
       "      <td>1.200000e+01</td>\n",
       "      <td>7.000000e+00</td>\n",
       "      <td>2.300000e+01</td>\n",
       "    </tr>\n",
       "  </tbody>\n",
       "</table>\n",
       "</div>"
      ],
      "text/plain": [
       "         fareamount_double  origin_block_latitude_double  \\\n",
       "summary                                                    \n",
       "count         1.426220e+07                  1.426220e+07   \n",
       "mean          9.741264e+00                  3.890459e+01   \n",
       "stddev        4.539085e+00                  1.497835e-02   \n",
       "min           3.250000e+00                  3.881206e+01   \n",
       "max           1.795600e+02                  3.899422e+01   \n",
       "\n",
       "         origin_block_longitude_double  destination_block_latitude_double  \\\n",
       "summary                                                                     \n",
       "count                     1.426220e+07                       1.426220e+07   \n",
       "mean                     -7.703034e+01                       3.890634e+01   \n",
       "stddev                    1.922855e-02                       1.726343e-02   \n",
       "min                      -7.711363e+01                       3.881138e+01   \n",
       "max                      -7.691001e+01                       3.899491e+01   \n",
       "\n",
       "         destination_block_longitude_double  year_integer  month_integer  \\\n",
       "summary                                                                    \n",
       "count                          1.426220e+07  1.426220e+07   1.426220e+07   \n",
       "mean                          -7.703004e+01  2.016624e+03   6.569351e+00   \n",
       "stddev                         2.237168e-02  1.280343e+00   3.454275e+00   \n",
       "min                           -7.711363e+01  2.015000e+03   1.000000e+00   \n",
       "max                           -7.691001e+01  2.019000e+03   1.200000e+01   \n",
       "\n",
       "          dow_integer  hour_integer  \n",
       "summary                              \n",
       "count    1.426220e+07  1.426220e+07  \n",
       "mean     3.986920e+00  1.399724e+01  \n",
       "stddev   2.005323e+00  6.145545e+00  \n",
       "min      1.000000e+00  0.000000e+00  \n",
       "max      7.000000e+00  2.300000e+01  "
      ]
     },
     "execution_count": 15,
     "metadata": {},
     "output_type": "execute_result"
    }
   ],
   "source": [
    "summary_df = df.set_index('summary')\n",
    "summary_df"
   ]
  },
  {
   "cell_type": "code",
   "execution_count": 16,
   "metadata": {},
   "outputs": [
    {
     "name": "stdout",
     "output_type": "stream",
     "text": [
      "14262196\n"
     ]
    }
   ],
   "source": [
    "df_size = summary_df.loc['count'].astype(int).max()\n",
    "print(df_size)"
   ]
  },
  {
   "cell_type": "code",
   "execution_count": 17,
   "metadata": {},
   "outputs": [
    {
     "name": "stdout",
     "output_type": "stream",
     "text": [
      "fareamount_double                        9.741264\n",
      "origin_block_latitude_double            38.904591\n",
      "origin_block_longitude_double          -77.030336\n",
      "destination_block_latitude_double       38.906345\n",
      "destination_block_longitude_double     -77.030041\n",
      "year_integer                          2016.624426\n",
      "month_integer                            6.569351\n",
      "dow_integer                              3.986920\n",
      "hour_integer                            13.997240\n",
      "Name: mean, dtype: float64\n",
      "fareamount_double                     4.539085\n",
      "origin_block_latitude_double          0.014978\n",
      "origin_block_longitude_double         0.019229\n",
      "destination_block_latitude_double     0.017263\n",
      "destination_block_longitude_double    0.022372\n",
      "year_integer                          1.280343\n",
      "month_integer                         3.454275\n",
      "dow_integer                           2.005323\n",
      "hour_integer                          6.145545\n",
      "Name: stddev, dtype: float64\n"
     ]
    }
   ],
   "source": [
    "mu = summary_df.loc['mean']\n",
    "print(mu)\n",
    "sigma = summary_df.loc['stddev']\n",
    "print(sigma)"
   ]
  },
  {
   "cell_type": "markdown",
   "metadata": {},
   "source": [
    "# Choosing the Sample Size\n",
    "We want to ensure that the test data set is large enough so that it is statistically similar to the entire dataset."
   ]
  },
  {
   "cell_type": "code",
   "execution_count": 18,
   "metadata": {},
   "outputs": [
    {
     "name": "stdout",
     "output_type": "stream",
     "text": [
      "[4278658.8, 2139329.4, 1426219.6, 142621.96, 71310.98]\n",
      "[22, 21, 20, 17, 16]\n"
     ]
    }
   ],
   "source": [
    "fractions = [.30, .15, .1, .01, .005]\n",
    "print([df_size * fraction for fraction in fractions])\n",
    "\n",
    "# in base 2 log scale\n",
    "ranges = [floor(log(df_size * fraction, 2)) for fraction in fractions]\n",
    "print(ranges)"
   ]
  },
  {
   "cell_type": "code",
   "execution_count": 19,
   "metadata": {},
   "outputs": [
    {
     "name": "stdout",
     "output_type": "stream",
     "text": [
      "23 15\n"
     ]
    }
   ],
   "source": [
    "sample_size_upper, sample_size_lower = max(ranges) + 1, min(ranges) - 1\n",
    "print(sample_size_upper, sample_size_lower)"
   ]
  },
  {
   "cell_type": "code",
   "execution_count": 20,
   "metadata": {},
   "outputs": [
    {
     "name": "stdout",
     "output_type": "stream",
     "text": [
      "(0, 15, 0.0022975423980991427, 32768)\n",
      "(1, 16, 0.004595084796198285, 65536)\n",
      "(2, 17, 0.00919016959239657, 131072)\n",
      "(3, 18, 0.01838033918479314, 262144)\n",
      "(4, 19, 0.03676067836958628, 524288)\n",
      "(5, 20, 0.07352135673917257, 1048576)\n",
      "(6, 21, 0.14704271347834513, 2097152)\n",
      "(7, 22, 0.29408542695669027, 4194304)\n"
     ]
    }
   ],
   "source": [
    "sizes = [2 ** i for i in range(sample_size_lower, sample_size_upper)]\n",
    "fracs = [size / df_size for size in sizes]\n",
    "print(*[(idx, sample_size_lower + idx, frac, size) for idx, (frac, size) in enumerate(zip(fracs, sizes))], sep=\n",
    "'\\n')"
   ]
  },
  {
   "cell_type": "markdown",
   "metadata": {},
   "source": [
    "We next use standard error of the mean statistic along with diminishing returns (a marginal) to produce sample sizes for the test data set."
   ]
  },
  {
   "cell_type": "code",
   "execution_count": 22,
   "metadata": {},
   "outputs": [],
   "source": [
    "def sem(lower, upper, mu, sigma):\n",
    "  sizes = pd.Series([\n",
    "    2 ** i for i in range(lower, upper + 1)\n",
    "  ])\n",
    "  \n",
    "  est_sem_df = pd.DataFrame(\n",
    "    np.outer((1 / np.sqrt(sizes)), sigma.values),\n",
    "    columns= sigma.index,\n",
    "    index= sizes.values\n",
    "  )\n",
    "  \n",
    "  return est_sem_df\n",
    "\n",
    "sem_df = sem(sample_size_lower, sample_size_upper, mu, sigma)"
   ]
  },
  {
   "cell_type": "code",
   "execution_count": 26,
   "metadata": {},
   "outputs": [
    {
     "data": {
      "text/plain": [
       "([<matplotlib.axis.XTick at 0x1312c2cd0>,\n",
       "  <matplotlib.axis.XTick at 0x132f26d50>,\n",
       "  <matplotlib.axis.XTick at 0x132b2d5d0>,\n",
       "  <matplotlib.axis.XTick at 0x13312cbd0>,\n",
       "  <matplotlib.axis.XTick at 0x13314edd0>,\n",
       "  <matplotlib.axis.XTick at 0x133132510>,\n",
       "  <matplotlib.axis.XTick at 0x133131890>,\n",
       "  <matplotlib.axis.XTick at 0x13313ea90>,\n",
       "  <matplotlib.axis.XTick at 0x1331601d0>],\n",
       " [Text(32768, 0, '2^15'),\n",
       "  Text(65536, 0, '2^16'),\n",
       "  Text(131072, 0, '2^17'),\n",
       "  Text(262144, 0, '2^18'),\n",
       "  Text(524288, 0, '2^19'),\n",
       "  Text(1048576, 0, '2^20'),\n",
       "  Text(2097152, 0, '2^21'),\n",
       "  Text(4194304, 0, '2^22'),\n",
       "  Text(8388608, 0, '2^23')])"
      ]
     },
     "execution_count": 26,
     "metadata": {},
     "output_type": "execute_result"
    },
    {
     "data": {
      "image/png": "[encoded data removed]",
      "text/plain": [
       "<Figure size 1200x900 with 1 Axes>"
      ]
     },
     "metadata": {},
     "output_type": "display_data"
    }
   ],
   "source": [
    "%matplotlib inline\n",
    "\n",
    "plt.figure(figsize= (12, 9))\n",
    "plt.plot(sem_df.index, sem_df.mean(axis = 1))\n",
    "plt.xticks(sem_df.index,\n",
    "           labels = list(map(lambda i: f\"2^{i}\", np.log2(sem_df.index.values).astype(int))),\n",
    "           rotation= 90)"
   ]
  },
  {
   "cell_type": "markdown",
   "metadata": {},
   "source": [
    "We see that although the sample size grows exponentially, the slope of the average SEM flattens with every doubling. We want to find a sample size such that if it were any larger, the improvements to the sem would yield diminishing returns. To identify the point of diminishing returns (marginal) we look at the total reduciton in the SEM for each increase in the sample size."
   ]
  },
  {
   "cell_type": "code",
   "execution_count": 31,
   "metadata": {},
   "outputs": [
    {
     "data": {
      "text/plain": [
       "([<matplotlib.axis.XTick at 0x1333cbd10>,\n",
       "  <matplotlib.axis.XTick at 0x1333f2950>,\n",
       "  <matplotlib.axis.XTick at 0x1333d2850>,\n",
       "  <matplotlib.axis.XTick at 0x133426c50>,\n",
       "  <matplotlib.axis.XTick at 0x133439010>,\n",
       "  <matplotlib.axis.XTick at 0x13343b310>,\n",
       "  <matplotlib.axis.XTick at 0x133445490>,\n",
       "  <matplotlib.axis.XTick at 0x133444d10>,\n",
       "  <matplotlib.axis.XTick at 0x133448350>],\n",
       " [Text(32768, 0, '2^15'),\n",
       "  Text(65536, 0, '2^16'),\n",
       "  Text(131072, 0, '2^17'),\n",
       "  Text(262144, 0, '2^18'),\n",
       "  Text(524288, 0, '2^19'),\n",
       "  Text(1048576, 0, '2^20'),\n",
       "  Text(2097152, 0, '2^21'),\n",
       "  Text(4194304, 0, '2^22'),\n",
       "  Text(8388608, 0, '2^23')])"
      ]
     },
     "execution_count": 31,
     "metadata": {},
     "output_type": "execute_result"
    },
    {
     "data": {
      "image/png": "[encoded data removed]",
      "text/plain": [
       "<Figure size 1200x900 with 1 Axes>"
      ]
     },
     "metadata": {},
     "output_type": "display_data"
    }
   ],
   "source": [
    "agg_change = sem_df.cumsum().mean(axis =1)\n",
    "\n",
    "plt.figure(figsize= (12, 9))\n",
    "plt.plot(sem_df.index, agg_change)\n",
    "plt.scatter(sem_df.index, agg_change, color='red')\n",
    "plt.xticks(sem_df.index,\n",
    "           labels = list(map(lambda i: f\"2^{i}\", np.log2(sem_df.index.values).astype(int))),\n",
    "           rotation= 90)"
   ]
  },
  {
   "cell_type": "code",
   "execution_count": 40,
   "metadata": {},
   "outputs": [
    {
     "name": "stdout",
     "output_type": "stream",
     "text": [
      "1048576 0.07352135673917257\n"
     ]
    }
   ],
   "source": [
    "def marginal(x):\n",
    "  coor = np.vstack([x.index.values, x.values]).transpose()\n",
    "  return pd.Series(\n",
    "    index = x.index, \n",
    "    data = np.cross(coor[-1] - coor[0], coor[-1] - coor) / np.linalg.norm(coor[-1] - coor[0])\n",
    "    ).idxmin()\n",
    "\n",
    "sample_size = marginal(agg_change)\n",
    "print(sample_size, sample_size/df_size)"
   ]
  },
  {
   "cell_type": "markdown",
   "metadata": {},
   "source": [
    "The marginal test sample size chosen by the diminishing returns heuristic corresponds to 7% of the dataset. However, the SEM measure is designed to identify a **lower** bound for the sample size and does not indicate if the size is the right one to use for the test dataset."
   ]
  }
 ],
 "metadata": {
  "kernelspec": {
   "display_name": "taxi-9rdAknMB-py3.9",
   "language": "python",
   "name": "python3"
  },
  "language_info": {
   "codemirror_mode": {
    "name": "ipython",
    "version": 3
   },
   "file_extension": ".py",
   "mimetype": "text/x-python",
   "name": "python",
   "nbconvert_exporter": "python",
   "pygments_lexer": "ipython3",
   "version": "3.11.3"
  },
  "orig_nbformat": 4
 },
 "nbformat": 4,
 "nbformat_minor": 2
}
